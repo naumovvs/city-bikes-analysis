{
 "cells": [
  {
   "cell_type": "code",
   "execution_count": 4,
   "metadata": {},
   "outputs": [],
   "source": [
    "f1 = open('gpx-data/wavelo_clean.gpx', 'r')\n",
    "f2 = open('gpx-data/wavelo_clean_20001_end.gpx', 'w')\n",
    "\n",
    "tracks = 0\n",
    "begin_track, end_track = 20001, 30000\n",
    "\n",
    "f2.write(\"<?xml version=\\\"1.0\\\" encoding=\\\"UTF-8\\\"?>\\n\")\n",
    "f2.write(\"<gpx version=\\\"1.0\\\" creator=\\\"ExpertGPS 1.1 - http://www.topografix.com\\\" \" + \\\n",
    "         \"xmlns:xsi=\\\"http://www.w3.org/2001/XMLSchema-instance\\\" \" + \\\n",
    "         \"xmlns=\\\"http://www.topografix.com/GPX/1/0\\\" \" + \\\n",
    "         \"xsi:schemaLocation=\\\"http://www.topografix.com/GPX/1/0 \" + \\\n",
    "         \"http://www.topografix.com/GPX/1/0/gpx.xsd\\\">\\n\")\n",
    "\n",
    "for line in f1:\n",
    "    if line.strip() == \"<trk>\":\n",
    "        tracks += 1\n",
    "    if tracks > end_track:\n",
    "        break\n",
    "    if tracks >= begin_track:\n",
    "        f2.write(line)\n",
    "\n",
    "f1.close()\n",
    "\n",
    "f2.write(\"</gpx>\")\n",
    "f2.close()"
   ]
  },
  {
   "cell_type": "code",
   "execution_count": null,
   "metadata": {},
   "outputs": [],
   "source": []
  }
 ],
 "metadata": {
  "kernelspec": {
   "display_name": "Python 2",
   "language": "python",
   "name": "python2"
  },
  "language_info": {
   "codemirror_mode": {
    "name": "ipython",
    "version": 2
   },
   "file_extension": ".py",
   "mimetype": "text/x-python",
   "name": "python",
   "nbconvert_exporter": "python",
   "pygments_lexer": "ipython2",
   "version": "2.7.15"
  }
 },
 "nbformat": 4,
 "nbformat_minor": 2
}
