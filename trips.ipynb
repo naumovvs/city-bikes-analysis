{
 "cells": [
  {
   "cell_type": "code",
   "execution_count": 38,
   "metadata": {},
   "outputs": [],
   "source": [
    "import csv\n",
    "from matplotlib import pyplot as plt\n",
    "import numpy as np\n",
    "from scipy import stats\n",
    "\n",
    "class Trip:\n",
    "    \n",
    "    def __init__(self, trip_id, duration, distance, idle, irr_coef):\n",
    "        self.id = trip_id\n",
    "        self.duration = duration\n",
    "        self.distance = distance\n",
    "        self.idle = idle\n",
    "        self.irr_coef = irr_coef\n",
    "        \n",
    "    @property\n",
    "    def aver_velocity(self):\n",
    "        return 0.0 if self.duration == 0 else 3600.0 * self.distance / self.duration\n",
    "    \n",
    "    @property\n",
    "    def pure_velocity(self):\n",
    "        return 0.0 if self.duration == 0 or self.duration == self.idle \\\n",
    "                   else 3600.0 * self.distance / (self.duration - self.idle)"
   ]
  },
  {
   "cell_type": "code",
   "execution_count": 2,
   "metadata": {},
   "outputs": [],
   "source": [
    "trips = []\n",
    "\n",
    "with open('data/trips_clean_all.txt', 'r') as csvfile:\n",
    "    trips_reader = csv.reader(csvfile, delimiter='\\t', quotechar='.')\n",
    "    for data in trips_reader:\n",
    "        trips.append(Trip(int(data[0]), float(data[1]),\n",
    "                          float(data[2]), float(data[3]), float(data[4])))"
   ]
  },
  {
   "cell_type": "code",
   "execution_count": 3,
   "metadata": {},
   "outputs": [
    {
     "data": {
      "text/plain": [
       "27927"
      ]
     },
     "execution_count": 3,
     "metadata": {},
     "output_type": "execute_result"
    }
   ],
   "source": [
    "len(trips)"
   ]
  },
  {
   "cell_type": "code",
   "execution_count": 56,
   "metadata": {},
   "outputs": [
    {
     "name": "stdout",
     "output_type": "stream",
     "text": [
      "156.37300819994988 593.8325095748145\n",
      "0.3666997858712165 0.1559836021635606 1004\n"
     ]
    },
    {
     "data": {
      "image/png": "[encoded data removed]",
      "text/plain": [
       "<Figure size 432x288 with 1 Axes>"
      ]
     },
     "metadata": {
      "needs_background": "light"
     },
     "output_type": "display_data"
    }
   ],
   "source": [
    "idles_mean = np.array([1.0 * trip.idle for trip in trips]).mean()\n",
    "idles_std = np.array([1.0 * trip.idle for trip in trips]).std()\n",
    "print idles_mean, idles_std\n",
    "\n",
    "idles = np.array([1.0 * trip.idle / trip.duration for trip in trips\n",
    "                  if trip.idle > idles_mean + idles_std and trip.idle < 15000])\n",
    "\n",
    "print idles.mean(), idles.std(), len(idles)\n",
    "plt.hist(idles, bins=20)\n",
    "plt.show()"
   ]
  },
  {
   "cell_type": "code",
   "execution_count": 19,
   "metadata": {
    "scrolled": true
   },
   "outputs": [
    {
     "name": "stdout",
     "output_type": "stream",
     "text": [
      "10.698129396028326\n"
     ]
    },
    {
     "data": {
      "image/png": "[encoded data removed]",
      "text/plain": [
       "<Figure size 432x288 with 1 Axes>"
      ]
     },
     "metadata": {
      "needs_background": "light"
     },
     "output_type": "display_data"
    }
   ],
   "source": [
    "vs = np.array([trip.aver_velocity for trip in trips])\n",
    "\n",
    "print vs.mean()\n",
    "plt.hist(vs, bins=500)\n",
    "plt.show()"
   ]
  },
  {
   "cell_type": "code",
   "execution_count": 66,
   "metadata": {},
   "outputs": [
    {
     "name": "stdout",
     "output_type": "stream",
     "text": [
      "83.02504710576542\n",
      "1371\n"
     ]
    },
    {
     "data": {
      "image/png": "[encoded data removed]",
      "text/plain": [
       "<Figure size 432x288 with 1 Axes>"
      ]
     },
     "metadata": {
      "needs_background": "light"
     },
     "output_type": "display_data"
    }
   ],
   "source": [
    "# unevenness of the travel distance\n",
    "irrs = np.array([trip.irr_coef for trip in trips])\n",
    "irr_mean = irrs.mean()\n",
    "print irr_mean\n",
    "\n",
    "irrs_low = np.array([trip.irr_coef for trip in trips\n",
    "                     if trip.irr_coef > 3 and trip.irr_coef < 50])\n",
    "print len(irrs_low)\n",
    "\n",
    "plt.hist(irrs_low, bins=200)\n",
    "plt.show()"
   ]
  },
  {
   "cell_type": "code",
   "execution_count": 72,
   "metadata": {},
   "outputs": [],
   "source": [
    "# Atrakcje:\n",
    "attr_titles = ['Barbakan',\n",
    "               'Bazylika Bozego Ciala',\n",
    "               'Bazylika Mariacka',\n",
    "               'Bazylika sw. Floriana',\n",
    "               'Bazylika sw. Michala Archaniola i sw. Stanislawa Biskupa']\n",
    "file_titles = ['attr/barbakan.txt', \n",
    "               'attr/bbc.txt', \n",
    "               'attr/bm.txt',\n",
    "               'attr/bf.txt',\n",
    "               'attr/bmasb.txt']\n",
    "trip_attr_indices = []\n",
    "\n",
    "for fname in file_titles:\n",
    "    with open(fname, 'r') as csvfile:\n",
    "        trip_indices = []\n",
    "        indices_reader = csv.reader(csvfile)\n",
    "        for data in indices_reader:\n",
    "            trip_indices.append(int(data[0]))\n",
    "        trip_attr_indices.append(trip_indices)   "
   ]
  },
  {
   "cell_type": "code",
   "execution_count": 77,
   "metadata": {},
   "outputs": [],
   "source": [
    "attr_trips = []\n",
    "for trip_indices in trip_attr_indices:\n",
    "    given_attr_trips = []\n",
    "    for trip_idx in trip_indices:\n",
    "        for trip in trips:\n",
    "            if trip_idx == trip.id:\n",
    "                given_attr_trips.append(trip)\n",
    "    attr_trips.append(given_attr_trips)"
   ]
  },
  {
   "cell_type": "code",
   "execution_count": 88,
   "metadata": {},
   "outputs": [],
   "source": [
    "# Select recreational trips\n",
    "recr_trips = []\n",
    "for given_attr_trips in attr_trips:\n",
    "    given_recr_trips = []\n",
    "    for trip in given_attr_trips:\n",
    "        if trip.irr_coef > 2:\n",
    "            given_recr_trips.append(trip)\n",
    "    recr_trips.append(given_recr_trips)"
   ]
  },
  {
   "cell_type": "code",
   "execution_count": 89,
   "metadata": {},
   "outputs": [
    {
     "name": "stdout",
     "output_type": "stream",
     "text": [
      "8.500801420234643 263\n"
     ]
    },
    {
     "data": {
      "image/png": "[encoded data removed]",
      "text/plain": [
       "<Figure size 432x288 with 1 Axes>"
      ]
     },
     "metadata": {
      "needs_background": "light"
     },
     "output_type": "display_data"
    },
    {
     "name": "stdout",
     "output_type": "stream",
     "text": [
      "7.8588495381558525 157\n"
     ]
    },
    {
     "data": {
      "image/png": "[encoded data removed]",
      "text/plain": [
       "<Figure size 432x288 with 1 Axes>"
      ]
     },
     "metadata": {
      "needs_background": "light"
     },
     "output_type": "display_data"
    },
    {
     "name": "stdout",
     "output_type": "stream",
     "text": [
      "7.666186409891677 152\n"
     ]
    },
    {
     "data": {
      "image/png": "[encoded data removed]",
      "text/plain": [
       "<Figure size 432x288 with 1 Axes>"
      ]
     },
     "metadata": {
      "needs_background": "light"
     },
     "output_type": "display_data"
    },
    {
     "name": "stdout",
     "output_type": "stream",
     "text": [
      "8.56575614546767 105\n"
     ]
    },
    {
     "data": {
      "image/png": "[encoded data removed]",
      "text/plain": [
       "<Figure size 432x288 with 1 Axes>"
      ]
     },
     "metadata": {
      "needs_background": "light"
     },
     "output_type": "display_data"
    },
    {
     "name": "stdout",
     "output_type": "stream",
     "text": [
      "8.75783495369567 110\n"
     ]
    },
    {
     "data": {
      "image/png": "[encoded data removed]",
      "text/plain": [
       "<Figure size 432x288 with 1 Axes>"
      ]
     },
     "metadata": {
      "needs_background": "light"
     },
     "output_type": "display_data"
    }
   ],
   "source": [
    "# Velocity distributions\n",
    "for given_attr_trips in recr_trips:\n",
    "    vs = np.array([trip.aver_velocity for trip in given_attr_trips])\n",
    "    print vs.mean(), len(vs)\n",
    "    plt.hist(vs)\n",
    "    plt.show()"
   ]
  },
  {
   "cell_type": "code",
   "execution_count": null,
   "metadata": {},
   "outputs": [],
   "source": []
  }
 ],
 "metadata": {
  "kernelspec": {
   "display_name": "Python 2",
   "language": "python",
   "name": "python2"
  },
  "language_info": {
   "codemirror_mode": {
    "name": "ipython",
    "version": 2
   },
   "file_extension": ".py",
   "mimetype": "text/x-python",
   "name": "python",
   "nbconvert_exporter": "python",
   "pygments_lexer": "ipython2",
   "version": "2.7.15"
  }
 },
 "nbformat": 4,
 "nbformat_minor": 2
}
