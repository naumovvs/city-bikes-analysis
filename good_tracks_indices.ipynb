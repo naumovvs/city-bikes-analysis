{
 "cells": [
  {
   "cell_type": "code",
   "execution_count": 1,
   "metadata": {},
   "outputs": [],
   "source": [
    "import numpy as np\n",
    "import csv"
   ]
  },
  {
   "cell_type": "code",
   "execution_count": 2,
   "metadata": {},
   "outputs": [],
   "source": [
    "class Trip:\n",
    "    \n",
    "    def __init__(self, trip_id, duration, distance, idle):\n",
    "        self.id = trip_id\n",
    "        self.duration = duration\n",
    "        self.distance = distance\n",
    "        self.idle = idle\n",
    "        \n",
    "    @property\n",
    "    def aver_velocity(self):\n",
    "        return 0.0 if self.duration == 0 else 3600.0 * self.distance / self.duration\n",
    "    \n",
    "    @property\n",
    "    def pure_velocity(self):\n",
    "        return 0.0 if self.duration == 0 or self.duration == self.idle \\\n",
    "                   else 3600.0 * self.distance / (self.duration - self.idle)"
   ]
  },
  {
   "cell_type": "code",
   "execution_count": 3,
   "metadata": {},
   "outputs": [
    {
     "name": "stdout",
     "output_type": "stream",
     "text": [
      "34969\n"
     ]
    }
   ],
   "source": [
    "# load all trips\n",
    "trips = np.array([])\n",
    "\n",
    "with open('sample_all.txt', 'r') as csvfile:\n",
    "    trips_reader = csv.reader(csvfile, delimiter=',', quotechar='.')\n",
    "    idx = 0\n",
    "    for data in trips_reader:\n",
    "        idx += 1\n",
    "        trips = np.append(trips, Trip(idx, float(data[1]), float(data[2]), float(data[4])))\n",
    "print len(trips)"
   ]
  },
  {
   "cell_type": "code",
   "execution_count": 4,
   "metadata": {},
   "outputs": [
    {
     "name": "stdout",
     "output_type": "stream",
     "text": [
      "5946\n"
     ]
    }
   ],
   "source": [
    "bad_indices = []\n",
    "\n",
    "with open('bad_indices.txt', 'r') as csvfile:\n",
    "    for data in csv.reader(csvfile, delimiter=',', quotechar='.'):\n",
    "        bad_indices.append(int(data[0]))\n",
    "print len(bad_indices)"
   ]
  },
  {
   "cell_type": "code",
   "execution_count": 5,
   "metadata": {},
   "outputs": [
    {
     "name": "stdout",
     "output_type": "stream",
     "text": [
      "29023\n"
     ]
    }
   ],
   "source": [
    "good_data_trips = np.array([])\n",
    "for trip in trips:\n",
    "    if not (trip.id in bad_indices):\n",
    "        good_data_trips = np.append(good_data_trips, trip)\n",
    "print len(good_data_trips)"
   ]
  },
  {
   "cell_type": "code",
   "execution_count": 6,
   "metadata": {},
   "outputs": [
    {
     "name": "stdout",
     "output_type": "stream",
     "text": [
      "40 635 28348\n"
     ]
    }
   ],
   "source": [
    "# exclude 'zero' trips\n",
    "trips_no_zeros = np.array([])\n",
    "dur_zero, dist_zero = 0, 0\n",
    "for trip in good_data_trips:\n",
    "    if trip.duration == 0:\n",
    "        dur_zero += 1\n",
    "    elif trip.distance == 0:\n",
    "        dist_zero += 1\n",
    "    else:\n",
    "        trips_no_zeros = np.append(trips_no_zeros, trip)\n",
    "print dur_zero, dist_zero, len(trips_no_zeros)"
   ]
  },
  {
   "cell_type": "code",
   "execution_count": 7,
   "metadata": {},
   "outputs": [
    {
     "name": "stdout",
     "output_type": "stream",
     "text": [
      "27927\n"
     ]
    }
   ],
   "source": [
    "# consider only accomplished trips\n",
    "trips_accomplished = [trip for trip in trips_no_zeros if trip.distance > 0.05]\n",
    "trips_accomplished_indices = [trip.id for trip in trips_accomplished]\n",
    "print len(trips_accomplished_indices)"
   ]
  },
  {
   "cell_type": "code",
   "execution_count": 8,
   "metadata": {},
   "outputs": [],
   "source": [
    "f = open('clean_data_indices.txt', 'w')\n",
    "for idx in trips_accomplished_indices:\n",
    "    f.write(str(idx) + '\\n')\n",
    "f.close()"
   ]
  },
  {
   "cell_type": "code",
   "execution_count": null,
   "metadata": {},
   "outputs": [],
   "source": []
  }
 ],
 "metadata": {
  "kernelspec": {
   "display_name": "Python 2",
   "language": "python",
   "name": "python2"
  },
  "language_info": {
   "codemirror_mode": {
    "name": "ipython",
    "version": 2
   },
   "file_extension": ".py",
   "mimetype": "text/x-python",
   "name": "python",
   "nbconvert_exporter": "python",
   "pygments_lexer": "ipython2",
   "version": "2.7.15"
  }
 },
 "nbformat": 4,
 "nbformat_minor": 2
}
