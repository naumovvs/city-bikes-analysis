{
 "cells": [
  {
   "cell_type": "code",
   "execution_count": 1,
   "metadata": {
    "collapsed": true
   },
   "outputs": [],
   "source": [
    "import math\n",
    "import xml.etree.ElementTree as ET\n",
    "from datetime import datetime, timedelta\n",
    "from matplotlib import pyplot as plt\n",
    "import numpy as np\n",
    "from scipy import stats\n",
    "import csv"
   ]
  },
  {
   "cell_type": "code",
   "execution_count": 2,
   "metadata": {
    "collapsed": true
   },
   "outputs": [],
   "source": [
    "class TrackPoint:\n",
    "    \n",
    "    def __init__(self, time, lat, lon):\n",
    "        self.time = time\n",
    "        self.lat = lat # latitude\n",
    "        self.lon = lon # longitude\n",
    "\n",
    "\n",
    "class Track:\n",
    "    \n",
    "    def __init__(self):\n",
    "        self.points = [] # track points\n",
    "        self.all_segments = []\n",
    "\n",
    "    def gps_distance(self, p1, p2):\n",
    "        # Haversine Formula\n",
    "        lat1, lon1 = p1.lat, p1.lon\n",
    "        lat2, lon2 = p2.lat, p2.lon\n",
    "        Earth_radius = 6371  # km\n",
    "        dlat = math.radians(lat2 - lat1)\n",
    "        dlon = math.radians(lon2 - lon1)\n",
    "        a = (math.sin(0.5 * dlat) * math.sin(0.5 * dlat) +\n",
    "             math.cos(math.radians(lat1)) * math.cos(math.radians(lat2)) *\n",
    "             math.sin(0.5 * dlon) * math.sin(0.5 * dlon))\n",
    "        return 2 * Earth_radius * math.atan2(math.sqrt(a), math.sqrt(1 - a))\n",
    "    \n",
    "    @property\n",
    "    def size(self):\n",
    "        return len(self.points)\n",
    "    \n",
    "    @property\n",
    "    def is_epmty(self):\n",
    "        return self.size == 0\n",
    "    \n",
    "    @property\n",
    "    def has_bad_timing(self):\n",
    "        dt, dd, dv = self.segments\n",
    "        bad_timing = False\n",
    "        for t in dt:\n",
    "            if t > 5 * 60:\n",
    "                # GPS tracker didn't respond for more than 5 minutes\n",
    "                bad_timing = True\n",
    "                break\n",
    "        return bad_timing\n",
    "    \n",
    "    @property\n",
    "    def has_small_distance(self):\n",
    "        # total distance is less than 100 m\n",
    "        return self.travel_distance < 0.1\n",
    "    \n",
    "    @property\n",
    "    def origin(self):\n",
    "        return None if self.is_epmty else self.points[0]\n",
    "    \n",
    "    @property\n",
    "    def destination(self):\n",
    "        return None if self.is_epmty else self.points[-1]\n",
    "    \n",
    "    @property\n",
    "    def idle_time(self):\n",
    "        t = 0.0\n",
    "        if not self.is_epmty:\n",
    "            ts, ds, _ = self.segments\n",
    "            n = len(ts)\n",
    "            if n > 0:\n",
    "                for i in range(n):\n",
    "                    if ds[i] == 0:\n",
    "                        t += ts[i]\n",
    "        return t\n",
    "    \n",
    "    @property\n",
    "    def travel_time(self):\n",
    "        return 0 if self.is_epmty else (self.destination.time - self.origin.time).seconds\n",
    "    \n",
    "    @property\n",
    "    def travel_distance(self):\n",
    "        td = 0.0\n",
    "        if not self.is_epmty:\n",
    "            _, dd, _ = self.segments\n",
    "            td = sum(dd)\n",
    "        return td\n",
    "    \n",
    "    @property\n",
    "    def mean_speed(self):\n",
    "        ms = 0.0\n",
    "        if not self.is_epmty:\n",
    "            _, _, vs = self.segments\n",
    "            if len(vs) != 0:\n",
    "                ms = 1.0 * sum(vs) / len(vs)\n",
    "        return ms\n",
    "    \n",
    "    @property\n",
    "    def aver_speed(self):\n",
    "        return 0 if self.travel_time == 0 else 3600 * self.travel_distance / self.travel_time\n",
    "    \n",
    "    @property\n",
    "    def segments(self):\n",
    "        dt, dist, velocity = [], [], []\n",
    "        if not self.is_epmty:\n",
    "            for i in range(self.size - 1):\n",
    "                dt.append((self.points[i + 1].time - self.points[i].time).seconds)\n",
    "                dist.append(self.gps_distance(self.points[i], self.points[i + 1]))\n",
    "                velocity.append(3600.0 * dist[-1] / dt[-1])\n",
    "        return dt, dist, velocity\n",
    "    \n",
    "\n",
    "class GPX:\n",
    "    \n",
    "    def __init__(self, file_name):\n",
    "        tree = ET.parse(file_name)\n",
    "        self.tracks = self.get_tracks(tree)    \n",
    "    \n",
    "    def get_tracks(self, tree):\n",
    "        trks = []\n",
    "        root = tree.getroot()\n",
    "        for trk in root:\n",
    "            # print trk.tag, trk.attrib\n",
    "            for trkseg in trk:\n",
    "                tr = Track()\n",
    "                for trkpt in trkseg:\n",
    "                    tstr = trkpt[0].text # 2017-05-31T22:03:41Z\n",
    "                    year, month, day = tstr[:4], tstr[5:7], tstr[8:10]\n",
    "                    hour, minute, sec = tstr[11:13], tstr[14:16], tstr[17:19]\n",
    "                    time = datetime(int(year), int(month), int(day), \n",
    "                                    int(hour), int(minute), int(sec))\n",
    "                    if tr.is_epmty or time != tr.points[-1].time: # exclude repetitions\n",
    "                        tr.points.append(TrackPoint(time=time,\n",
    "                                                    lat=float(trkpt.attrib.get('lat')),\n",
    "                                                    lon=float(trkpt.attrib.get('lon'))))\n",
    "                # print \"Points in track:\", len(tr.points)\n",
    "                trks.append(tr)\n",
    "        return trks"
   ]
  },
  {
   "cell_type": "code",
   "execution_count": 3,
   "metadata": {
    "collapsed": true
   },
   "outputs": [],
   "source": [
    "gpx = GPX('wavelo_low_speed.gpx')"
   ]
  },
  {
   "cell_type": "code",
   "execution_count": null,
   "metadata": {
    "collapsed": true
   },
   "outputs": [],
   "source": [
    "def plot_track(gpx, idx):\n",
    "    tr = gpx.tracks[idx - 1]\n",
    "    ts, ds, vs = [0], [0], [0]\n",
    "    dt, dd, dv = tr.segments\n",
    "    #\n",
    "    track_time, track_dist = 0, 0\n",
    "    cds = [0] # cumulative distance\n",
    "    for (t, d) in zip(dt, dd):\n",
    "        track_time += t / 60.0\n",
    "        track_dist += d\n",
    "        ts.append(track_time)\n",
    "        cds.append(track_dist)\n",
    "    ds.extend(dd)\n",
    "    vs.extend(dv)\n",
    "    plt.plot(ts, cds)\n",
    "    plt.show()\n",
    "    plt.plot(ts, vs)\n",
    "    plt.show()\n",
    "\n",
    "plot_track(gpx, 1)"
   ]
  },
  {
   "cell_type": "code",
   "execution_count": 3,
   "metadata": {
    "collapsed": true
   },
   "outputs": [],
   "source": [
    "class Trip:\n",
    "    \n",
    "    def __init__(self, trip_id, duration, distance, idle):\n",
    "        self.id = trip_id\n",
    "        self.duration = duration\n",
    "        self.distance = distance\n",
    "        self.idle = idle\n",
    "        \n",
    "    @property\n",
    "    def aver_velocity(self):\n",
    "        return 0.0 if self.duration == 0 else 3600.0 * self.distance / self.duration\n",
    "    \n",
    "    @property\n",
    "    def pure_velocity(self):\n",
    "        return 0.0 if self.duration == 0 or self.duration == self.idle \\\n",
    "                   else 3600.0 * self.distance / (self.duration - self.idle)"
   ]
  },
  {
   "cell_type": "code",
   "execution_count": 4,
   "metadata": {
    "collapsed": true
   },
   "outputs": [],
   "source": [
    "def plot_normal(xs, bins=100):\n",
    "    m, s = stats.norm.fit(xs)\n",
    "    print \"Normal distribution parameters:\", m, s\n",
    "    \n",
    "    lnspc = np.linspace(xs.min(), xs.max(), len(xs))\n",
    "    pdf_g = stats.norm.pdf(lnspc, m, s)\n",
    "    \n",
    "    plt.hist(xs, bins=bins, density=True)\n",
    "    plt.xlabel(\"Variable values\")\n",
    "    plt.ylabel(\"Density function\")\n",
    "    plt.plot(lnspc, pdf_g)\n",
    "    plt.show()\n",
    "    \n",
    "def plot_gamma(xs):\n",
    "    a, b, c = stats.gamma.fit(xs)\n",
    "    print a, b, c\n",
    "    \n",
    "    lnspc = np.linspace(xs.min(), xs.max(), len(xs))\n",
    "    pdf_gamma = stats.gamma.pdf(lnspc, a, b, c)\n",
    "    \n",
    "    plt.hist(xs, bins=100, density=True)\n",
    "    plt.plot(lnspc, pdf_gamma, label=\"gamma\")\n",
    "    plt.show()\n",
    "    \n",
    "def plot_expon(xs):\n",
    "    _, b = stats.expon.fit(xs, floc=0)\n",
    "    print b\n",
    "    \n",
    "    lnspc = np.linspace(xs.min(), xs.max(), len(xs))\n",
    "    pdf_expon = stats.expon.pdf(lnspc, scale=b)\n",
    "    \n",
    "    plt.hist(xs, bins=100, density=True)\n",
    "    plt.plot(lnspc, pdf_expon, label=\"expon\")\n",
    "    plt.show()"
   ]
  },
  {
   "cell_type": "code",
   "execution_count": 5,
   "metadata": {
    "collapsed": true
   },
   "outputs": [],
   "source": [
    "sturges = lambda sample: 1 + int(1.44 * math.log(len(sample)))\n",
    "    \n",
    "def bounds(sample):\n",
    "    # define the bins number\n",
    "    k = sturges(sample)\n",
    "    # define the minimum value and the bins width\n",
    "    x_min = min(sample)\n",
    "    h = 1.0 * (max(sample) - x_min) / k\n",
    "    return [(x_min + (i - 1) * h,\n",
    "             x_min + i * h) for i in range(1, k + 1)]\n",
    "\n",
    "def efreqs(sample):\n",
    "    # define the list of bounds\n",
    "    bs = bounds(sample)\n",
    "    # take the bins number\n",
    "    k = len(bs)\n",
    "    # initialize the resulting variable\n",
    "    res = [0 for _ in range(k)]\n",
    "    for x in sample:\n",
    "        for i in range(k - 1):\n",
    "            if x >= bs[i][0] and x < bs[i][1]:\n",
    "                res[i] += 1\n",
    "        if x >= bs[k - 1][0]:\n",
    "            res[k - 1] += 1\n",
    "    return res\n",
    "    \n",
    "def tfreqs_normal(sample):\n",
    "    n = len(sample)\n",
    "    bs = bounds(sample)\n",
    "    mean_x = 1.0 * sum(sample) / n\n",
    "    sd_x = math.sqrt(1.0 * sum([(x - mean_x)**2 for x in sample]) / n)\n",
    "    cdfs = [ (stats.norm.cdf(b[0], mean_x, sd_x), \\\n",
    "              stats.norm.cdf(b[1], mean_x, sd_x)) for b in bs] \n",
    "    return [round(n * (cdf[1] - cdf[0]), 2) for cdf in cdfs]\n",
    "\n",
    "def tfreqs_expon(sample):\n",
    "    n = len(sample)\n",
    "    bs = bounds(sample)\n",
    "    mean_x = 1.0 * sum(sample) / n\n",
    "    #sd_x = math.sqrt(1.0 * sum([(x - mean_x)**2 for x in sample]) / n)\n",
    "    cdfs = [ (stats.expon.cdf(b[0], scale=mean_x), \\\n",
    "              stats.expon.cdf(b[1], scale=mean_x)) for b in bs] \n",
    "    return [round(n * (cdf[1] - cdf[0]), 2) for cdf in cdfs]\n",
    "\n",
    "def check_normal(sample, prob=0.05):\n",
    "    efs = efreqs(sample)\n",
    "    tfs = tfreqs_normal(sample)\n",
    "    k = len(efs)\n",
    "    print \"Sample size: \", len(sample)\n",
    "    print \"Number of bins: \", k\n",
    "    chi2 = []\n",
    "    for i in range(k):\n",
    "        chi2.append((efs[i] - tfs[i]) ** 2 / tfs[i])\n",
    "    chi2test = sum(chi2)\n",
    "    print \"Normal chi2test:\", chi2test, stats.chi2.ppf(1 - prob, k - 2 - 1), chi2test <= stats.chi2.ppf(1 - prob, k - 2 - 1)\n",
    "    return chi2test <= stats.chi2.ppf(1 - prob, k - 2 - 1)\n",
    "\n",
    "def check_expon(sample, prob=0.05):\n",
    "    efs = efreqs(sample)\n",
    "    tfs = tfreqs_expon(sample)\n",
    "    k = len(efs)\n",
    "    print \"Sample size: \", len(sample)\n",
    "    print \"Number of bins: \", k\n",
    "    chi2 = []\n",
    "    for i in range(k):\n",
    "        chi2.append((efs[i] - tfs[i]) ** 2 / tfs[i])\n",
    "    chi2test = sum(chi2)\n",
    "    print \"Expon chi2test:\", chi2test, stats.chi2.ppf(1 - prob, k - 1 - 1), chi2test <= stats.chi2.ppf(1 - prob, k - 1 - 1)\n",
    "    return chi2test <= stats.chi2.ppf(1 - prob, k - 1 - 1)"
   ]
  },
  {
   "cell_type": "code",
   "execution_count": 7,
   "metadata": {},
   "outputs": [
    {
     "name": "stdout",
     "output_type": "stream",
     "text": [
      "3.82169210845 3.57220526533\n",
      "0.475585073764 0.640961962756\n",
      "Normal distribution parameters: 9.33098653375 3.9670171917\n"
     ]
    },
    {
     "data": {
      "image/png": "[encoded data removed]",
      "text/plain": [
       "<matplotlib.figure.Figure at 0x6e62b70>"
      ]
     },
     "metadata": {},
     "output_type": "display_data"
    },
    {
     "name": "stdout",
     "output_type": "stream",
     "text": [
      "Sample size:  34969\n",
      "Number of bins:  16\n",
      "Normal chi2test: 5280.39346038 22.3620324948 False\n"
     ]
    },
    {
     "data": {
      "text/plain": [
       "False"
      ]
     },
     "execution_count": 7,
     "metadata": {},
     "output_type": "execute_result"
    }
   ],
   "source": [
    "# load all trips\n",
    "trips = np.array([])\n",
    "\n",
    "with open('sample_all.txt', 'r') as csvfile:\n",
    "    trips_reader = csv.reader(csvfile, delimiter=',', quotechar='.')\n",
    "    idx = 0\n",
    "    for data in trips_reader:\n",
    "        idx += 1\n",
    "        trips = np.append(trips, Trip(idx, float(data[1]), float(data[2]), float(data[4])))\n",
    "\n",
    "vs = np.array([trip.aver_velocity for trip in trips])\n",
    "ds = np.array([trip.distance for trip in trips])\n",
    "ts = np.array([trip.duration for trip in trips])\n",
    "print ds.mean(), ds.std()\n",
    "print ts.mean() / 3600, ts.std() / 3600\n",
    "plot_normal(vs)\n",
    "check_normal(vs)"
   ]
  },
  {
   "cell_type": "code",
   "execution_count": 10,
   "metadata": {},
   "outputs": [
    {
     "name": "stdout",
     "output_type": "stream",
     "text": [
      "5946\n"
     ]
    }
   ],
   "source": [
    "bad_indices = []\n",
    "\n",
    "with open('bad_indices.txt', 'r') as csvfile:\n",
    "    for data in csv.reader(csvfile, delimiter=',', quotechar='.'):\n",
    "        bad_indices.append(int(data[0]))\n",
    "print len(bad_indices)"
   ]
  },
  {
   "cell_type": "code",
   "execution_count": 11,
   "metadata": {},
   "outputs": [
    {
     "name": "stdout",
     "output_type": "stream",
     "text": [
      "29023\n"
     ]
    }
   ],
   "source": [
    "good_data_trips = np.array([])\n",
    "for trip in trips:\n",
    "    if not (trip.id in bad_indices):\n",
    "        good_data_trips = np.append(good_data_trips, trip)\n",
    "print len(good_data_trips)"
   ]
  },
  {
   "cell_type": "code",
   "execution_count": 12,
   "metadata": {},
   "outputs": [
    {
     "name": "stdout",
     "output_type": "stream",
     "text": [
      "3.7397347957 3.46750623705\n",
      "0.371845633923 0.417391943398\n",
      "Normal distribution parameters: 10.301082457 3.46665850725\n"
     ]
    },
    {
     "data": {
      "image/png": "[encoded data removed]",
      "text/plain": [
       "<matplotlib.figure.Figure at 0xb35d2e8>"
      ]
     },
     "metadata": {},
     "output_type": "display_data"
    },
    {
     "name": "stdout",
     "output_type": "stream",
     "text": [
      "Sample size:  29023\n",
      "Number of bins:  15\n",
      "Normal chi2test: 9071.34300706 21.0260698175 False\n"
     ]
    },
    {
     "data": {
      "text/plain": [
       "False"
      ]
     },
     "execution_count": 12,
     "metadata": {},
     "output_type": "execute_result"
    }
   ],
   "source": [
    "vs = np.array([trip.aver_velocity for trip in good_data_trips])\n",
    "ds = np.array([trip.distance for trip in good_data_trips])\n",
    "ts = np.array([trip.duration for trip in good_data_trips])\n",
    "print ds.mean(), ds.std()\n",
    "print ts.mean() / 3600, ts.std() / 3600\n",
    "plot_normal(vs)\n",
    "check_normal(vs)"
   ]
  },
  {
   "cell_type": "code",
   "execution_count": 13,
   "metadata": {},
   "outputs": [
    {
     "name": "stdout",
     "output_type": "stream",
     "text": [
      "40 635 28348\n",
      "3.82878238238 3.45961732694\n",
      "0.380219817585 0.418740286039\n",
      "Normal distribution parameters: 10.5463636288 3.11721882185\n"
     ]
    },
    {
     "data": {
      "image/png": "[encoded data removed]",
      "text/plain": [
       "<matplotlib.figure.Figure at 0xb6609e8>"
      ]
     },
     "metadata": {},
     "output_type": "display_data"
    },
    {
     "name": "stdout",
     "output_type": "stream",
     "text": [
      "Sample size:  28348\n",
      "Number of bins:  15\n",
      "Normal chi2test: 4049.25118062 21.0260698175 False\n"
     ]
    },
    {
     "data": {
      "text/plain": [
       "False"
      ]
     },
     "execution_count": 13,
     "metadata": {},
     "output_type": "execute_result"
    }
   ],
   "source": [
    "# exclude 'zero' trips\n",
    "trips_no_zeros = np.array([])\n",
    "dur_zero, dist_zero = 0, 0\n",
    "for trip in good_data_trips:\n",
    "    if trip.duration == 0:\n",
    "        dur_zero += 1\n",
    "    elif trip.distance == 0:\n",
    "        dist_zero += 1\n",
    "    else:\n",
    "        trips_no_zeros = np.append(trips_no_zeros, trip)\n",
    "print dur_zero, dist_zero, len(trips_no_zeros)\n",
    "vs = np.array([trip.aver_velocity for trip in trips_no_zeros])\n",
    "ds = np.array([trip.distance for trip in trips_no_zeros])\n",
    "ts = np.array([trip.duration for trip in trips_no_zeros])\n",
    "print ds.mean(), ds.std()\n",
    "print ts.mean() / 3600, ts.std() / 3600\n",
    "plot_normal(vs)\n",
    "check_normal(vs)"
   ]
  },
  {
   "cell_type": "code",
   "execution_count": 28,
   "metadata": {},
   "outputs": [
    {
     "name": "stdout",
     "output_type": "stream",
     "text": [
      "3.82880859375\n"
     ]
    },
    {
     "data": {
      "image/png": "[encoded data removed]",
      "text/plain": [
       "<matplotlib.figure.Figure at 0xda7abe0>"
      ]
     },
     "metadata": {},
     "output_type": "display_data"
    }
   ],
   "source": [
    "ds = np.array([trip.distance for trip in trips_no_zeros]) # if trip.distance < 0.1])\n",
    "plot_expon(ds)\n",
    "# plot_gamma(ds)"
   ]
  },
  {
   "cell_type": "code",
   "execution_count": 14,
   "metadata": {},
   "outputs": [
    {
     "name": "stdout",
     "output_type": "stream",
     "text": [
      "3.88632715491 3.45346346023\n",
      "0.385384086686 0.419722406634\n",
      "Normal distribution parameters: 10.698129396 2.88253484588\n"
     ]
    },
    {
     "data": {
      "image/png": "[encoded data removed]",
      "text/plain": [
       "<matplotlib.figure.Figure at 0xc6fa9e8>"
      ]
     },
     "metadata": {},
     "output_type": "display_data"
    },
    {
     "name": "stdout",
     "output_type": "stream",
     "text": [
      "Sample size:  27927\n",
      "Number of bins:  15\n",
      "Normal chi2test: 379.167918404 21.0260698175 False\n"
     ]
    },
    {
     "data": {
      "text/plain": [
       "False"
      ]
     },
     "execution_count": 14,
     "metadata": {},
     "output_type": "execute_result"
    }
   ],
   "source": [
    "trips_accomplished = [trip for trip in trips_no_zeros if trip.distance > 0.05]\n",
    "vs = np.array([trip.aver_velocity for trip in trips_accomplished])\n",
    "ds = np.array([trip.distance for trip in trips_accomplished])\n",
    "ts = np.array([trip.duration for trip in trips_accomplished])\n",
    "print ds.mean(), ds.std()\n",
    "print ts.mean() / 3600, ts.std() / 3600\n",
    "plot_normal(vs)\n",
    "check_normal(vs, prob=0.05)\n",
    "# plot_normal(vs, bins=15)"
   ]
  },
  {
   "cell_type": "code",
   "execution_count": 15,
   "metadata": {},
   "outputs": [
    {
     "name": "stdout",
     "output_type": "stream",
     "text": [
      "3.886328125\n"
     ]
    },
    {
     "data": {
      "image/png": "[encoded data removed]",
      "text/plain": [
       "<matplotlib.figure.Figure at 0xc803940>"
      ]
     },
     "metadata": {},
     "output_type": "display_data"
    },
    {
     "name": "stdout",
     "output_type": "stream",
     "text": [
      "Sample size:  27927\n",
      "Number of bins:  15\n",
      "Expon chi2test: 776.458942589 22.3620324948 False\n"
     ]
    },
    {
     "data": {
      "text/plain": [
       "False"
      ]
     },
     "execution_count": 15,
     "metadata": {},
     "output_type": "execute_result"
    }
   ],
   "source": [
    "ds = np.array([trip.distance for trip in trips_accomplished])\n",
    "plot_expon(ds)\n",
    "# plot_gamma(ds)\n",
    "check_expon(ds)"
   ]
  },
  {
   "cell_type": "code",
   "execution_count": 16,
   "metadata": {},
   "outputs": [
    {
     "name": "stdout",
     "output_type": "stream",
     "text": [
      "1315.87402344\n"
     ]
    },
    {
     "data": {
      "image/png": "[encoded data removed]",
      "text/plain": [
       "<matplotlib.figure.Figure at 0xca8aeb8>"
      ]
     },
     "metadata": {},
     "output_type": "display_data"
    },
    {
     "name": "stdout",
     "output_type": "stream",
     "text": [
      "1.78039785598 29.8694367859 721.406922994\n"
     ]
    },
    {
     "data": {
      "image/png": "[encoded data removed]",
      "text/plain": [
       "<matplotlib.figure.Figure at 0xaf06128>"
      ]
     },
     "metadata": {},
     "output_type": "display_data"
    },
    {
     "name": "stdout",
     "output_type": "stream",
     "text": [
      "Sample size:  27769\n",
      "Number of bins:  15\n",
      "Expon chi2test: 2280.44256292 22.3620324948 False\n"
     ]
    },
    {
     "data": {
      "text/plain": [
       "False"
      ]
     },
     "execution_count": 16,
     "metadata": {},
     "output_type": "execute_result"
    }
   ],
   "source": [
    "ts = np.array([trip.duration for trip in trips_accomplished if trip.duration < 10000])\n",
    "plot_expon(ts)\n",
    "plot_gamma(ts)\n",
    "check_expon(ts)"
   ]
  },
  {
   "cell_type": "code",
   "execution_count": null,
   "metadata": {
    "collapsed": true
   },
   "outputs": [],
   "source": []
  }
 ],
 "metadata": {
  "kernelspec": {
   "display_name": "Python 2",
   "language": "python",
   "name": "python2"
  },
  "language_info": {
   "codemirror_mode": {
    "name": "ipython",
    "version": 2
   },
   "file_extension": ".py",
   "mimetype": "text/x-python",
   "name": "python",
   "nbconvert_exporter": "python",
   "pygments_lexer": "ipython2",
   "version": "2.7.15"
  }
 },
 "nbformat": 4,
 "nbformat_minor": 2
}
