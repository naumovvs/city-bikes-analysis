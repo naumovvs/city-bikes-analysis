{
 "cells": [
  {
   "cell_type": "code",
   "execution_count": 1,
   "metadata": {
    "collapsed": true
   },
   "outputs": [],
   "source": [
    "ids = [1, 2, 3]"
   ]
  },
  {
   "cell_type": "code",
   "execution_count": null,
   "metadata": {
    "collapsed": true
   },
   "outputs": [],
   "source": [
    "def tracks_to_file(source_file, target_file, indices):\n",
    "    f1 = open(source_file, 'r')\n",
    "    f2 = open(target_file, 'w')\n",
    "    f2.write(\"<?xml version=\\\"1.0\\\" encoding=\\\"UTF-8\\\"?>\\n\")\n",
    "    f2.write(\"<gpx version=\\\"1.0\\\" creator=\\\"ExpertGPS 1.1 - http://www.topografix.com\\\" \" + \\\n",
    "             \"xmlns:xsi=\\\"http://www.w3.org/2001/XMLSchema-instance\\\" \" + \\\n",
    "             \"xmlns=\\\"http://www.topografix.com/GPX/1/0\\\" \" + \\\n",
    "             \"xsi:schemaLocation=\\\"http://www.topografix.com/GPX/1/0 \" + \\\n",
    "             \"http://www.topografix.com/GPX/1/0/gpx.xsd\\\">\\n\")\n",
    "    #\n",
    "    track_idx = 0\n",
    "    for line in f1:\n",
    "        if line.strip() == \"<trk>\":\n",
    "            track_idx += 1\n",
    "        if track_idx in indices:\n",
    "            f2.write(line)\n",
    "    #\n",
    "    f1.close()\n",
    "    f2.write(\"</gpx>\")\n",
    "    f2.close()\n",
    "\n",
    "tracks_to_file('wavelo_june_routes_1.gpx', 'wavelo_low_speed.gpx', ids)"
   ]
  }
 ],
 "metadata": {
  "kernelspec": {
   "display_name": "Python 2",
   "language": "python",
   "name": "python2"
  },
  "language_info": {
   "codemirror_mode": {
    "name": "ipython",
    "version": 2
   },
   "file_extension": ".py",
   "mimetype": "text/x-python",
   "name": "python",
   "nbconvert_exporter": "python",
   "pygments_lexer": "ipython2",
   "version": "2.7.15"
  }
 },
 "nbformat": 4,
 "nbformat_minor": 2
}
